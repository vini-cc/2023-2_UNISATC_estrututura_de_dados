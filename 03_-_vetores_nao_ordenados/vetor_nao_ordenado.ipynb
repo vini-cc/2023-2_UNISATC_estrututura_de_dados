{
 "cells": [
  {
   "cell_type": "code",
   "execution_count": 1,
   "metadata": {},
   "outputs": [],
   "source": [
    "import numpy as np"
   ]
  },
  {
   "cell_type": "code",
   "execution_count": 27,
   "metadata": {},
   "outputs": [],
   "source": [
    "class vetor_nao_ordenado:\n",
    "    def __init__(self, capacidade):\n",
    "        self.capacidade = capacidade\n",
    "        self.ultima_posicao = -1\n",
    "        self.elementos = np.empty(self.capacidade, dtype = int)\n",
    "\n",
    "    # Big-O: O(n)\n",
    "    def imprime(self):\n",
    "        if self.ultima_posicao == -1:\n",
    "            print('Vetor vazio.')\n",
    "        else:\n",
    "            for i in range(self.ultima_posicao + 1):\n",
    "                print(f\"{i} - {self.elementos[i]}\")\n",
    "\n",
    "    # Big-O: O(1)\n",
    "    def insere(self, elemento):\n",
    "        if self.ultima_posicao == self.capacidade - 1:\n",
    "            print('Vetor cheio.')\n",
    "        else:\n",
    "            self.ultima_posicao += 1\n",
    "            self.elementos[self.ultima_posicao] = elemento\n",
    "\n",
    "    # Big-O: O(n)\n",
    "    def pesquisar(self, elemento):\n",
    "        for i in range(self.ultima_posicao + 1):\n",
    "            if elemento == self.elementos[i]:\n",
    "                return i\n",
    "        return -1\n",
    "    \n",
    "    # Big-O: O(n)\n",
    "    def excluir(self, elemento):\n",
    "        posicao = self.pesquisar(elemento)\n",
    "        if posicao == -1:\n",
    "            return -1\n",
    "        else:\n",
    "            for i in range(posicao, self.ultima_posicao):\n",
    "                self.elementos[i] = self.elementos[i + 1]\n",
    "            \n",
    "            self.ultima_posicao -= 1\n",
    "            \n"
   ]
  },
  {
   "cell_type": "code",
   "execution_count": 28,
   "metadata": {},
   "outputs": [
    {
     "name": "stdout",
     "output_type": "stream",
     "text": [
      "Vetor vazio.\n"
     ]
    }
   ],
   "source": [
    "vetor = vetor_nao_ordenado(5)\n",
    "\n",
    "vetor.imprime()"
   ]
  },
  {
   "cell_type": "code",
   "execution_count": 29,
   "metadata": {},
   "outputs": [
    {
     "name": "stdout",
     "output_type": "stream",
     "text": [
      "0 - 2\n"
     ]
    }
   ],
   "source": [
    "vetor.insere(2)\n",
    "\n",
    "vetor.imprime()"
   ]
  },
  {
   "cell_type": "code",
   "execution_count": 30,
   "metadata": {},
   "outputs": [
    {
     "name": "stdout",
     "output_type": "stream",
     "text": [
      "0 - 2\n",
      "1 - 3\n",
      "2 - 4\n",
      "3 - 7\n",
      "4 - 1\n"
     ]
    }
   ],
   "source": [
    "vetor.insere(3)\n",
    "vetor.insere(4)\n",
    "vetor.insere(7)\n",
    "vetor.insere(1)\n",
    "\n",
    "vetor.imprime()"
   ]
  },
  {
   "cell_type": "code",
   "execution_count": 31,
   "metadata": {},
   "outputs": [
    {
     "data": {
      "text/plain": [
       "2"
      ]
     },
     "execution_count": 31,
     "metadata": {},
     "output_type": "execute_result"
    }
   ],
   "source": [
    "vetor.pesquisar(4)"
   ]
  },
  {
   "cell_type": "code",
   "execution_count": 32,
   "metadata": {},
   "outputs": [
    {
     "data": {
      "text/plain": [
       "-1"
      ]
     },
     "execution_count": 32,
     "metadata": {},
     "output_type": "execute_result"
    }
   ],
   "source": [
    "vetor.pesquisar(19)"
   ]
  },
  {
   "cell_type": "code",
   "execution_count": 33,
   "metadata": {},
   "outputs": [],
   "source": [
    "vetor.excluir(4)"
   ]
  },
  {
   "cell_type": "code",
   "execution_count": 34,
   "metadata": {},
   "outputs": [
    {
     "name": "stdout",
     "output_type": "stream",
     "text": [
      "0 - 2\n",
      "1 - 3\n",
      "2 - 7\n",
      "3 - 1\n"
     ]
    }
   ],
   "source": [
    "vetor.imprime()"
   ]
  },
  {
   "cell_type": "code",
   "execution_count": null,
   "metadata": {},
   "outputs": [],
   "source": []
  }
 ],
 "metadata": {
  "kernelspec": {
   "display_name": "yolo_py10",
   "language": "python",
   "name": "python3"
  },
  "language_info": {
   "codemirror_mode": {
    "name": "ipython",
    "version": 3
   },
   "file_extension": ".py",
   "mimetype": "text/x-python",
   "name": "python",
   "nbconvert_exporter": "python",
   "pygments_lexer": "ipython3",
   "version": "3.10.11"
  },
  "orig_nbformat": 4
 },
 "nbformat": 4,
 "nbformat_minor": 2
}
